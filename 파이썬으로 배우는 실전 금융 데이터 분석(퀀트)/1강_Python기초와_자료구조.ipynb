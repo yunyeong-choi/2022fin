{
  "nbformat": 4,
  "nbformat_minor": 0,
  "metadata": {
    "kernelspec": {
      "display_name": "Python 3",
      "language": "python",
      "name": "python3"
    },
    "language_info": {
      "codemirror_mode": {
        "name": "ipython",
        "version": 3
      },
      "file_extension": ".py",
      "mimetype": "text/x-python",
      "name": "python",
      "nbconvert_exporter": "python",
      "pygments_lexer": "ipython3",
      "version": "3.7.9"
    },
    "colab": {
      "provenance": [],
      "collapsed_sections": [
        "a9c1goI1DbGd"
      ],
      "include_colab_link": true
    }
  },
  "cells": [
    {
      "cell_type": "markdown",
      "metadata": {
        "id": "view-in-github",
        "colab_type": "text"
      },
      "source": [
        "<a href=\"https://colab.research.google.com/github/yunyeong-choi/2022fin/blob/master/%ED%8C%8C%EC%9D%B4%EC%8D%AC%EC%9C%BC%EB%A1%9C%20%EB%B0%B0%EC%9A%B0%EB%8A%94%20%EC%8B%A4%EC%A0%84%20%EA%B8%88%EC%9C%B5%20%EB%8D%B0%EC%9D%B4%ED%84%B0%20%EB%B6%84%EC%84%9D(%ED%80%80%ED%8A%B8)/1%E1%84%80%E1%85%A1%E1%86%BC_Python%EA%B8%B0%EC%B4%88%EC%99%80_%EC%9E%90%EB%A3%8C%EA%B5%AC%EC%A1%B0.ipynb\" target=\"_parent\"><img src=\"https://colab.research.google.com/assets/colab-badge.svg\" alt=\"Open In Colab\"/></a>"
      ]
    },
    {
      "cell_type": "markdown",
      "metadata": {
        "id": "ubqdvbUaDbGG"
      },
      "source": [
        "# 1강 - 데이터 사이언스 소개 & Python 기초"
      ]
    },
    {
      "cell_type": "markdown",
      "metadata": {
        "id": "cF_Aqu_sDbGP"
      },
      "source": [
        "**작성자 : AISchool(http://aischool.ai/)**"
      ]
    },
    {
      "cell_type": "markdown",
      "metadata": {
        "id": "0aZfS7EDDbGQ"
      },
      "source": [
        "# 실습 1 – 기본 자료형과 기본 연산자, 주석을 살펴봅시다."
      ]
    },
    {
      "cell_type": "markdown",
      "metadata": {
        "id": "mcLxug-CDbGQ"
      },
      "source": [
        "# 기본 자료형(int, float, str) 살펴보기"
      ]
    },
    {
      "cell_type": "code",
      "metadata": {
        "id": "hD7amVkhDbGR",
        "colab": {
          "base_uri": "https://localhost:8080/"
        },
        "outputId": "7c29e870-f2d8-4469-b73f-ccc156351474"
      },
      "source": [
        "삼성전자_주가 = 52000\n",
        "type(삼성전자_주가)"
      ],
      "execution_count": null,
      "outputs": [
        {
          "output_type": "execute_result",
          "data": {
            "text/plain": [
              "int"
            ]
          },
          "metadata": {
            "tags": []
          },
          "execution_count": 1
        }
      ]
    },
    {
      "cell_type": "code",
      "metadata": {
        "id": "CfhSpcOgDbGS"
      },
      "source": [],
      "execution_count": null,
      "outputs": []
    },
    {
      "cell_type": "code",
      "metadata": {
        "id": "RdvTC1XqDbGT",
        "colab": {
          "base_uri": "https://localhost:8080/"
        },
        "outputId": "83baa9d1-0ae7-4133-a0f7-b3f0d2e8b160"
      },
      "source": [
        "캠페인_집행횟수 = 32000\n",
        "type(캠페인_집행횟수)"
      ],
      "execution_count": null,
      "outputs": [
        {
          "output_type": "execute_result",
          "data": {
            "text/plain": [
              "int"
            ]
          },
          "metadata": {
            "tags": []
          },
          "execution_count": 2
        }
      ]
    },
    {
      "cell_type": "code",
      "metadata": {
        "id": "RIxyT0tiDbGU"
      },
      "source": [],
      "execution_count": null,
      "outputs": []
    },
    {
      "cell_type": "code",
      "metadata": {
        "id": "L8Rxa2qHDbGU",
        "colab": {
          "base_uri": "https://localhost:8080/"
        },
        "outputId": "c0fb088e-f481-4862-a771-bbee727828c1"
      },
      "source": [
        "주가_상승률 = 2.5\n",
        "type(주가_상승률)"
      ],
      "execution_count": null,
      "outputs": [
        {
          "output_type": "execute_result",
          "data": {
            "text/plain": [
              "float"
            ]
          },
          "metadata": {
            "tags": []
          },
          "execution_count": 3
        }
      ]
    },
    {
      "cell_type": "code",
      "metadata": {
        "id": "hFupzkVjDbGU"
      },
      "source": [],
      "execution_count": null,
      "outputs": []
    },
    {
      "cell_type": "code",
      "metadata": {
        "id": "8epDIHs6DbGV",
        "colab": {
          "base_uri": "https://localhost:8080/"
        },
        "outputId": "a71a32df-26a8-42fd-9b8b-6e184400c088"
      },
      "source": [
        "캠페인_전환률 = 5.8\n",
        "type(캠페인_전환률)"
      ],
      "execution_count": null,
      "outputs": [
        {
          "output_type": "execute_result",
          "data": {
            "text/plain": [
              "float"
            ]
          },
          "metadata": {
            "tags": []
          },
          "execution_count": 4
        }
      ]
    },
    {
      "cell_type": "code",
      "metadata": {
        "id": "UeT2u0deDbGV"
      },
      "source": [],
      "execution_count": null,
      "outputs": []
    },
    {
      "cell_type": "code",
      "metadata": {
        "id": "f1K17-7oDbGV",
        "colab": {
          "base_uri": "https://localhost:8080/"
        },
        "outputId": "c61476da-52d1-4bec-c071-39a675d613b1"
      },
      "source": [
        "종목명 = '삼성전자'\n",
        "type(종목명)"
      ],
      "execution_count": null,
      "outputs": [
        {
          "output_type": "execute_result",
          "data": {
            "text/plain": [
              "str"
            ]
          },
          "metadata": {
            "tags": []
          },
          "execution_count": 5
        }
      ]
    },
    {
      "cell_type": "code",
      "metadata": {
        "id": "j8RAbbXdDbGW"
      },
      "source": [],
      "execution_count": null,
      "outputs": []
    },
    {
      "cell_type": "code",
      "metadata": {
        "id": "qLEEBPTcDbGW",
        "colab": {
          "base_uri": "https://localhost:8080/"
        },
        "outputId": "705b587e-cbfe-4ab3-8038-1f1a873c1fe0"
      },
      "source": [
        "캠페인_이름 = '신규강의_전환율최대화'\n",
        "type(캠페인_이름)"
      ],
      "execution_count": null,
      "outputs": [
        {
          "output_type": "execute_result",
          "data": {
            "text/plain": [
              "str"
            ]
          },
          "metadata": {
            "tags": []
          },
          "execution_count": 6
        }
      ]
    },
    {
      "cell_type": "code",
      "metadata": {
        "id": "GapsRf9YDbGW"
      },
      "source": [],
      "execution_count": null,
      "outputs": []
    },
    {
      "cell_type": "code",
      "metadata": {
        "id": "afWv5z9mDbGW",
        "colab": {
          "base_uri": "https://localhost:8080/"
        },
        "outputId": "5f68433e-0b29-4e6b-a6c8-0d4c287e4606"
      },
      "source": [
        "매도_타이밍_유무 = True\n",
        "type(매도_타이밍_유무)"
      ],
      "execution_count": null,
      "outputs": [
        {
          "output_type": "execute_result",
          "data": {
            "text/plain": [
              "bool"
            ]
          },
          "metadata": {
            "tags": []
          },
          "execution_count": 7
        }
      ]
    },
    {
      "cell_type": "code",
      "metadata": {
        "id": "MQuUUczWDbGX"
      },
      "source": [],
      "execution_count": null,
      "outputs": []
    },
    {
      "cell_type": "code",
      "metadata": {
        "id": "Q5Ie1LrgDbGX",
        "colab": {
          "base_uri": "https://localhost:8080/"
        },
        "outputId": "c195aaa9-4671-4a34-8b1b-d7edc0265a04"
      },
      "source": [
        "마케팅_예산_증액_유무 = False\n",
        "type(마케팅_예산_증액_유무)"
      ],
      "execution_count": null,
      "outputs": [
        {
          "output_type": "execute_result",
          "data": {
            "text/plain": [
              "bool"
            ]
          },
          "metadata": {
            "tags": []
          },
          "execution_count": 8
        }
      ]
    },
    {
      "cell_type": "code",
      "metadata": {
        "id": "qZlcfKqODbGX"
      },
      "source": [],
      "execution_count": null,
      "outputs": []
    },
    {
      "cell_type": "markdown",
      "metadata": {
        "id": "qw0nwGUcDbGX"
      },
      "source": [
        "# 기본 연산자(+,-,*,/) 살펴보기"
      ]
    },
    {
      "cell_type": "code",
      "metadata": {
        "id": "7jL7Dc-5DbGY",
        "colab": {
          "base_uri": "https://localhost:8080/"
        },
        "outputId": "74774ff2-77c1-4227-8b9a-daff5da9c78a"
      },
      "source": [
        "삼성전자_주가 = 52000\n",
        "내일의_삼성전자_주가 = 삼성전자_주가 + 3500\n",
        "print(내일의_삼성전자_주가)"
      ],
      "execution_count": null,
      "outputs": [
        {
          "output_type": "stream",
          "text": [
            "55500\n"
          ],
          "name": "stdout"
        }
      ]
    },
    {
      "cell_type": "code",
      "metadata": {
        "id": "-VTKUyJkDbGY"
      },
      "source": [],
      "execution_count": null,
      "outputs": []
    },
    {
      "cell_type": "code",
      "metadata": {
        "id": "MQlRTJhCDbGY",
        "colab": {
          "base_uri": "https://localhost:8080/"
        },
        "outputId": "70b1f5c1-5d7b-47d0-f61b-882d484021f3"
      },
      "source": [
        "보유현금 = 100000\n",
        "삼성전자_1주_구매후_보유현금 = 100000 - 삼성전자_주가\n",
        "print(삼성전자_1주_구매후_보유현금)"
      ],
      "execution_count": null,
      "outputs": [
        {
          "output_type": "stream",
          "text": [
            "48000\n"
          ],
          "name": "stdout"
        }
      ]
    },
    {
      "cell_type": "code",
      "metadata": {
        "id": "SNpX-R_8DbGZ"
      },
      "source": [],
      "execution_count": null,
      "outputs": []
    },
    {
      "cell_type": "code",
      "metadata": {
        "id": "HRz-SKCmDbGZ",
        "colab": {
          "base_uri": "https://localhost:8080/"
        },
        "outputId": "799b8cfa-5b30-4f5e-9298-36dd8f1828e2"
      },
      "source": [
        "초기_자산 = 100000\n",
        "투자수익률 = 1.20\n",
        "투자후_자산 = 초기_자산 * 투자수익률\n",
        "print(투자후_자산)"
      ],
      "execution_count": null,
      "outputs": [
        {
          "output_type": "stream",
          "text": [
            "120000.0\n"
          ],
          "name": "stdout"
        }
      ]
    },
    {
      "cell_type": "code",
      "metadata": {
        "id": "_VStrwihDbGZ"
      },
      "source": [],
      "execution_count": null,
      "outputs": []
    },
    {
      "cell_type": "code",
      "metadata": {
        "id": "ZvtV94RFDbGZ",
        "colab": {
          "base_uri": "https://localhost:8080/"
        },
        "outputId": "622cb3f1-d399-4e44-a2e3-69fb7829e99d"
      },
      "source": [
        "초기_자산 = 200000\n",
        "# 삼성전자 주가 : 52000원\n",
        "구매가능한_삼성전자_주식수 = 초기_자산 / 삼성전자_주가\n",
        "print(구매가능한_삼성전자_주식수)\n",
        "print(int(구매가능한_삼성전자_주식수))"
      ],
      "execution_count": null,
      "outputs": [
        {
          "output_type": "stream",
          "text": [
            "3.8461538461538463\n",
            "3\n"
          ],
          "name": "stdout"
        }
      ]
    },
    {
      "cell_type": "code",
      "metadata": {
        "id": "v61wj8olDbGa"
      },
      "source": [],
      "execution_count": null,
      "outputs": []
    },
    {
      "cell_type": "code",
      "metadata": {
        "id": "tYqTrjrADbGa",
        "colab": {
          "base_uri": "https://localhost:8080/"
        },
        "outputId": "7552e6a8-8322-4ac6-b7d1-1d7d9d8e7fe2"
      },
      "source": [
        "전체고객수 = 100\n",
        "고객_세그먼트_묶음 = 16\n",
        "나머지_고객수 = 전체고객수 % 고객_세그먼트_묶음 # 100 % 16\n",
        "print(나머지_고객수)"
      ],
      "execution_count": null,
      "outputs": [
        {
          "output_type": "stream",
          "text": [
            "4\n"
          ],
          "name": "stdout"
        }
      ]
    },
    {
      "cell_type": "code",
      "metadata": {
        "id": "QCAOEeMRDbGa"
      },
      "source": [],
      "execution_count": null,
      "outputs": []
    },
    {
      "cell_type": "markdown",
      "metadata": {
        "id": "sO_ZylCeDbGb"
      },
      "source": [
        "# 기본 연산자(>,>=,<,<=) 살펴보기"
      ]
    },
    {
      "cell_type": "code",
      "metadata": {
        "id": "JDwt3d-iDbGb",
        "colab": {
          "base_uri": "https://localhost:8080/"
        },
        "outputId": "aa61fbf2-1c7d-49bc-8a88-827cb755bbab"
      },
      "source": [
        "목표매도가 = 53000\n",
        "현재주가 = 55000\n",
        "매도_유무 = 현재주가 > 목표매도가\n",
        "print(매도_유무)"
      ],
      "execution_count": null,
      "outputs": [
        {
          "output_type": "stream",
          "text": [
            "True\n"
          ],
          "name": "stdout"
        }
      ]
    },
    {
      "cell_type": "code",
      "metadata": {
        "id": "Q6uN-gqBDbGb"
      },
      "source": [],
      "execution_count": null,
      "outputs": []
    },
    {
      "cell_type": "code",
      "metadata": {
        "id": "7gCF6s3LDbGb",
        "colab": {
          "base_uri": "https://localhost:8080/"
        },
        "outputId": "2a5ad5a3-113d-4711-aa73-c066bbd5eabb"
      },
      "source": [
        "목표매수가 = 52000\n",
        "현재주가 = 55000\n",
        "매수_유무 = 현재주가 <= 목표매수가\n",
        "print(매수_유무)"
      ],
      "execution_count": null,
      "outputs": [
        {
          "output_type": "stream",
          "text": [
            "False\n"
          ],
          "name": "stdout"
        }
      ]
    },
    {
      "cell_type": "code",
      "metadata": {
        "id": "5QVgg0xoDbGc"
      },
      "source": [],
      "execution_count": null,
      "outputs": []
    },
    {
      "cell_type": "markdown",
      "metadata": {
        "id": "neDYmC59DbGc"
      },
      "source": [
        "# 주석(Comment)"
      ]
    },
    {
      "cell_type": "code",
      "metadata": {
        "id": "D3tTxt12DbGc"
      },
      "source": [
        "# 한줄 주석 - 주석 부분에 설명을 작성할 수 있습니다. 아래 변수는 현재 주가의 가격을 나타냅니다.\n",
        "현재_주가 = 5000"
      ],
      "execution_count": null,
      "outputs": []
    },
    {
      "cell_type": "code",
      "metadata": {
        "id": "YW3Eg7bSDbGc"
      },
      "source": [],
      "execution_count": null,
      "outputs": []
    },
    {
      "cell_type": "code",
      "metadata": {
        "id": "chcPJEQ5DbGc"
      },
      "source": [
        "'''\n",
        "여러줄 주석\n",
        "이런 형태로 여러줄 주석을 작성할 수 있습니다.\n",
        "아래 변수는 캠페인 전환율을 나타냅니다.\n",
        "'''\n",
        "캠페인_전환율 = 3.5"
      ],
      "execution_count": null,
      "outputs": []
    },
    {
      "cell_type": "code",
      "metadata": {
        "id": "NFb-kX9bDbGd"
      },
      "source": [],
      "execution_count": null,
      "outputs": []
    },
    {
      "cell_type": "markdown",
      "metadata": {
        "id": "a9c1goI1DbGd"
      },
      "source": [
        "# 실습 2 – 리스트(List), 튜플(Tuple), for 반복문을 살펴봅시다."
      ]
    },
    {
      "cell_type": "markdown",
      "metadata": {
        "id": "mPSZsG5JDbGd"
      },
      "source": [
        "# 리스트(List)"
      ]
    },
    {
      "cell_type": "code",
      "metadata": {
        "id": "1vZtjNKiDbGg"
      },
      "source": [
        "리스트_1 = []\n",
        "리스트_2 = list()"
      ],
      "execution_count": null,
      "outputs": []
    },
    {
      "cell_type": "code",
      "metadata": {
        "id": "u_2YWhJGDbGg"
      },
      "source": [],
      "execution_count": null,
      "outputs": []
    },
    {
      "cell_type": "code",
      "metadata": {
        "id": "kpnMrxDKDbGh",
        "colab": {
          "base_uri": "https://localhost:8080/"
        },
        "outputId": "9ea07e6b-7553-4cbf-a78f-4d83d872f810"
      },
      "source": [
        "리스트_1.append('100')\n",
        "리스트_2.append('a')\n",
        "리스트_2.insert(0,'before_a')\n",
        "print(리스트_1)\n",
        "print(리스트_2)"
      ],
      "execution_count": null,
      "outputs": [
        {
          "output_type": "stream",
          "text": [
            "['100']\n",
            "['before_a', 'a']\n"
          ],
          "name": "stdout"
        }
      ]
    },
    {
      "cell_type": "code",
      "metadata": {
        "id": "Vd9SR7qYDbGh"
      },
      "source": [],
      "execution_count": null,
      "outputs": []
    },
    {
      "cell_type": "code",
      "metadata": {
        "id": "p5dBBEt8DbGh",
        "colab": {
          "base_uri": "https://localhost:8080/"
        },
        "outputId": "71190499-a407-4b70-91c1-65f0ab602ba7"
      },
      "source": [
        "리스트_1.append('200')\n",
        "리스트_1.append('300')\n",
        "print(리스트_1)\n",
        "print(리스트_1[2])"
      ],
      "execution_count": null,
      "outputs": [
        {
          "output_type": "stream",
          "text": [
            "['100', '200', '300']\n",
            "300\n"
          ],
          "name": "stdout"
        }
      ]
    },
    {
      "cell_type": "code",
      "metadata": {
        "id": "L6Kwf2ZzDbGh"
      },
      "source": [],
      "execution_count": null,
      "outputs": []
    },
    {
      "cell_type": "code",
      "metadata": {
        "id": "HEixoL9cDbGi",
        "colab": {
          "base_uri": "https://localhost:8080/"
        },
        "outputId": "8434c205-e6aa-495f-f796-7ca197bc3292"
      },
      "source": [
        "리스트_1.remove('100')\n",
        "print(리스트_1)"
      ],
      "execution_count": null,
      "outputs": [
        {
          "output_type": "stream",
          "text": [
            "['200', '300']\n"
          ],
          "name": "stdout"
        }
      ]
    },
    {
      "cell_type": "code",
      "metadata": {
        "id": "q9SEcqdaDbGi"
      },
      "source": [],
      "execution_count": null,
      "outputs": []
    },
    {
      "cell_type": "markdown",
      "metadata": {
        "id": "bQ76DyVJ4X8l"
      },
      "source": [
        "# 튜플(Tuple)"
      ]
    },
    {
      "cell_type": "code",
      "metadata": {
        "id": "84T5aoXn4bsy"
      },
      "source": [
        "튜플_1 = (1, 2, 3)\n",
        "튜플_2 = (1, 'hello', 15.2)"
      ],
      "execution_count": null,
      "outputs": []
    },
    {
      "cell_type": "code",
      "metadata": {
        "id": "ThGmZY4C40hv"
      },
      "source": [],
      "execution_count": null,
      "outputs": []
    },
    {
      "cell_type": "code",
      "metadata": {
        "colab": {
          "base_uri": "https://localhost:8080/",
          "height": 35
        },
        "id": "GKKZUlQz4bkl",
        "outputId": "f2317c0d-dba6-4890-f7fc-5fbbef1054e0"
      },
      "source": [
        "튜플_2[1]"
      ],
      "execution_count": null,
      "outputs": [
        {
          "output_type": "execute_result",
          "data": {
            "application/vnd.google.colaboratory.intrinsic+json": {
              "type": "string"
            },
            "text/plain": [
              "'hello'"
            ]
          },
          "metadata": {
            "tags": []
          },
          "execution_count": 32
        }
      ]
    },
    {
      "cell_type": "code",
      "metadata": {
        "id": "9F2oOcl457Qs"
      },
      "source": [],
      "execution_count": null,
      "outputs": []
    },
    {
      "cell_type": "code",
      "metadata": {
        "colab": {
          "base_uri": "https://localhost:8080/"
        },
        "id": "B61HY4pu56pR",
        "outputId": "cb4b2c29-d1f2-4919-c3c2-69c8605b8dc6"
      },
      "source": [
        "튜플_1[0:2]"
      ],
      "execution_count": null,
      "outputs": [
        {
          "output_type": "execute_result",
          "data": {
            "text/plain": [
              "(1, 2)"
            ]
          },
          "metadata": {
            "tags": []
          },
          "execution_count": 33
        }
      ]
    },
    {
      "cell_type": "code",
      "metadata": {
        "colab": {
          "base_uri": "https://localhost:8080/",
          "height": 162
        },
        "id": "WLYQLtpK6Bad",
        "outputId": "6e450c70-dd5f-4e9e-dbd2-303f5f11939f"
      },
      "source": [
        "튜플_1[0] = 10"
      ],
      "execution_count": null,
      "outputs": [
        {
          "output_type": "error",
          "ename": "TypeError",
          "evalue": "ignored",
          "traceback": [
            "\u001b[0;31m---------------------------------------------------------------------------\u001b[0m",
            "\u001b[0;31mTypeError\u001b[0m                                 Traceback (most recent call last)",
            "\u001b[0;32m<ipython-input-34-e36a606f8426>\u001b[0m in \u001b[0;36m<module>\u001b[0;34m()\u001b[0m\n\u001b[0;32m----> 1\u001b[0;31m \u001b[0m튜플_1\u001b[0m\u001b[0;34m[\u001b[0m\u001b[0;36m0\u001b[0m\u001b[0;34m]\u001b[0m \u001b[0;34m=\u001b[0m \u001b[0;36m10\u001b[0m\u001b[0;34m\u001b[0m\u001b[0;34m\u001b[0m\u001b[0m\n\u001b[0m",
            "\u001b[0;31mTypeError\u001b[0m: 'tuple' object does not support item assignment"
          ]
        }
      ]
    },
    {
      "cell_type": "code",
      "metadata": {
        "id": "qGhqO8194bcR"
      },
      "source": [],
      "execution_count": null,
      "outputs": []
    },
    {
      "cell_type": "code",
      "metadata": {
        "colab": {
          "base_uri": "https://localhost:8080/"
        },
        "id": "VmBn_FT1406n",
        "outputId": "e0ec4683-bcf7-452c-cc4d-472c80dfc1c3"
      },
      "source": [
        "튜플_3 = 튜플_1 + 튜플_2\n",
        "튜플_3"
      ],
      "execution_count": null,
      "outputs": [
        {
          "output_type": "execute_result",
          "data": {
            "text/plain": [
              "(1, 2, 3, 1, 'hello', 15.2)"
            ]
          },
          "metadata": {
            "tags": []
          },
          "execution_count": 31
        }
      ]
    },
    {
      "cell_type": "code",
      "metadata": {
        "id": "M6F1GSe054A3"
      },
      "source": [],
      "execution_count": null,
      "outputs": []
    },
    {
      "cell_type": "code",
      "metadata": {
        "colab": {
          "base_uri": "https://localhost:8080/"
        },
        "id": "ZyKuRMDw7P5P",
        "outputId": "3d69fd8c-48eb-4a6b-f696-4d8ed3b5195a"
      },
      "source": [
        "len(튜플_3)"
      ],
      "execution_count": null,
      "outputs": [
        {
          "output_type": "execute_result",
          "data": {
            "text/plain": [
              "6"
            ]
          },
          "metadata": {
            "tags": []
          },
          "execution_count": 35
        }
      ]
    },
    {
      "cell_type": "code",
      "metadata": {
        "id": "svLlZAMe7RUZ"
      },
      "source": [],
      "execution_count": null,
      "outputs": []
    },
    {
      "cell_type": "markdown",
      "metadata": {
        "id": "NxA2w_OhDbGi"
      },
      "source": [
        "# Python for 반복문"
      ]
    },
    {
      "cell_type": "code",
      "metadata": {
        "id": "dhhs9MIbDbGi",
        "colab": {
          "base_uri": "https://localhost:8080/"
        },
        "outputId": "653d6b04-dad7-48a6-a773-c03729d13153"
      },
      "source": [
        "for i in range(0, 5):\n",
        "    print('안녕하세요!')"
      ],
      "execution_count": null,
      "outputs": [
        {
          "output_type": "stream",
          "text": [
            "안녕하세요!\n",
            "안녕하세요!\n",
            "안녕하세요!\n",
            "안녕하세요!\n",
            "안녕하세요!\n"
          ],
          "name": "stdout"
        }
      ]
    },
    {
      "cell_type": "code",
      "metadata": {
        "id": "geJ_F2XUDbGi"
      },
      "source": [],
      "execution_count": null,
      "outputs": []
    },
    {
      "cell_type": "code",
      "metadata": {
        "id": "NNfQ7DshDbGj",
        "colab": {
          "base_uri": "https://localhost:8080/"
        },
        "outputId": "796f5d75-52ae-417b-e847-883b00a1e677"
      },
      "source": [
        "for i in range(0, 5):\n",
        "    print('인덱스 :', i)"
      ],
      "execution_count": null,
      "outputs": [
        {
          "output_type": "stream",
          "text": [
            "인덱스 : 0\n",
            "인덱스 : 1\n",
            "인덱스 : 2\n",
            "인덱스 : 3\n",
            "인덱스 : 4\n"
          ],
          "name": "stdout"
        }
      ]
    },
    {
      "cell_type": "code",
      "metadata": {
        "id": "37Ch_lnkDbGj"
      },
      "source": [],
      "execution_count": null,
      "outputs": []
    },
    {
      "cell_type": "code",
      "metadata": {
        "id": "YOoTil3FDbGj",
        "colab": {
          "base_uri": "https://localhost:8080/"
        },
        "outputId": "34f6e85d-5fac-47cf-be3d-5887481e871a"
      },
      "source": [
        "삼성전자_주가_리스트 = [57800, 58200, 59000, 58700, 58000]\n",
        "print(삼성전자_주가_리스트)\n",
        "\n",
        "i = 1\n",
        "\n",
        "for 주가 in 삼성전자_주가_리스트:\n",
        "    print(i, 주가)\n",
        "    i += 1"
      ],
      "execution_count": null,
      "outputs": [
        {
          "output_type": "stream",
          "text": [
            "[57800, 58200, 59000, 58700, 58000]\n",
            "1 57800\n",
            "2 58200\n",
            "3 59000\n",
            "4 58700\n",
            "5 58000\n"
          ],
          "name": "stdout"
        }
      ]
    },
    {
      "cell_type": "code",
      "metadata": {
        "id": "ADSWHOfMDbGj"
      },
      "source": [],
      "execution_count": null,
      "outputs": []
    },
    {
      "cell_type": "code",
      "metadata": {
        "id": "uXRZrdeYDbGj",
        "colab": {
          "base_uri": "https://localhost:8080/"
        },
        "outputId": "5a624c35-9c78-4a3c-83aa-4b8276a14156"
      },
      "source": [
        "# 변수에 값 복사한뒤 계속해서 더하기\n",
        "초기_수강생 = 100\n",
        "누적_수강생 = 초기_수강생\n",
        "진행기수 = 10\n",
        "# 기수마다 20명씩 수강한다고 가정\n",
        "for i in range(0, 진행기수):\n",
        "    누적_수강생 = 누적_수강생 + 20\n",
        "print(누적_수강생)"
      ],
      "execution_count": null,
      "outputs": [
        {
          "output_type": "stream",
          "text": [
            "300\n"
          ],
          "name": "stdout"
        }
      ]
    },
    {
      "cell_type": "code",
      "metadata": {
        "id": "BsYRi266DbGk"
      },
      "source": [],
      "execution_count": null,
      "outputs": []
    }
  ]
}